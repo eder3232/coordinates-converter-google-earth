{
 "cells": [
  {
   "cell_type": "markdown",
   "metadata": {},
   "source": [
    "# Main\n"
   ]
  },
  {
   "cell_type": "code",
   "execution_count": 26,
   "metadata": {},
   "outputs": [],
   "source": [
    "import utm\n",
    "import numpy as np\n",
    "import requests\n",
    "import json\n",
    "from dotenv import load_dotenv\n",
    "import os\n",
    "import haversine as hs\n",
    "from haversine import Unit"
   ]
  },
  {
   "cell_type": "code",
   "execution_count": 27,
   "metadata": {},
   "outputs": [
    {
     "data": {
      "text/plain": [
       "True"
      ]
     },
     "execution_count": 27,
     "metadata": {},
     "output_type": "execute_result"
    }
   ],
   "source": [
    "# Carga las variables de entorno desde el archivo .env en el directorio actual\n",
    "load_dotenv()"
   ]
  },
  {
   "cell_type": "markdown",
   "metadata": {},
   "source": [
    "## Lectura de datos de un archivo txt\n"
   ]
  },
  {
   "cell_type": "code",
   "execution_count": 28,
   "metadata": {},
   "outputs": [],
   "source": [
    "# Abre el archivo en modo de lectura\n",
    "archivo = open(\"data/coordinates.txt\", \"r\")\n",
    "\n",
    "# Lee el contenido del archivo\n",
    "contenido = archivo.read()\n",
    "\n",
    "# Cierra el archivo\n",
    "archivo.close()"
   ]
  },
  {
   "cell_type": "markdown",
   "metadata": {},
   "source": [
    "## Conversión del string leido a una colección de objetos\n"
   ]
  },
  {
   "cell_type": "code",
   "execution_count": 29,
   "metadata": {},
   "outputs": [
    {
     "name": "stdout",
     "output_type": "stream",
     "text": [
      "[{'longitud': -71.50822803103384, 'latitud': -15.52502171075457}\n",
      " {'longitud': -71.5075531275322, 'latitud': -15.52504294763689}\n",
      " {'longitud': -71.50713003240948, 'latitud': -15.52510240816901}\n",
      " {'longitud': -71.50674347994195, 'latitud': -15.52531972263328}\n",
      " {'longitud': -71.50628580239709, 'latitud': -15.52552272214018}\n",
      " {'longitud': -71.50574878376794, 'latitud': -15.52564346399782}\n",
      " {'longitud': -71.50540610829403, 'latitud': -15.52559223856239}\n",
      " {'longitud': -71.50511592146341, 'latitud': -15.5254870799914}]\n"
     ]
    }
   ],
   "source": [
    "contenido_striped = contenido.strip()\n",
    "\n",
    "contenido_splited = contenido_striped.split(\" \")\n",
    "\n",
    "contenido_double_splited = []\n",
    "\n",
    "for i in range(len(contenido_splited)):\n",
    "    contenido_double_splited.append(contenido_splited[i].split(\",\"))\n",
    "\n",
    "parsed_data = []\n",
    "\n",
    "for i in range(len(contenido_double_splited)):\n",
    "    parsed_data.append(\n",
    "        {\n",
    "            \"longitud\": float(contenido_double_splited[i][0]),\n",
    "            \"latitud\": float(contenido_double_splited[i][1]),\n",
    "        }\n",
    "    )\n",
    "\n",
    "lat_long_data = parsed_data.copy()\n",
    "\n",
    "print(np.array(parsed_data))"
   ]
  },
  {
   "cell_type": "markdown",
   "metadata": {},
   "source": [
    "## Convirtiendo las coordenadas a UTM\n"
   ]
  },
  {
   "cell_type": "code",
   "execution_count": 30,
   "metadata": {},
   "outputs": [
    {
     "name": "stdout",
     "output_type": "stream",
     "text": [
      "[{'x': 230941.8276786802, 'y': 8282025.881516408, 'zone_number': 19, 'zone_letter': 'L'}\n",
      " {'x': 231014.29217347817, 'y': 8282024.379772708, 'zone_number': 19, 'zone_letter': 'L'}\n",
      " {'x': 231059.77981020417, 'y': 8282018.329677956, 'zone_number': 19, 'zone_letter': 'L'}\n",
      " {'x': 231101.5500846214, 'y': 8281994.7589541515, 'zone_number': 19, 'zone_letter': 'L'}\n",
      " {'x': 231150.93547840498, 'y': 8281972.862286303, 'zone_number': 19, 'zone_letter': 'L'}\n",
      " {'x': 231208.72968296375, 'y': 8281960.171273797, 'zone_number': 19, 'zone_letter': 'L'}\n",
      " {'x': 231245.44222787087, 'y': 8281966.272764398, 'zone_number': 19, 'zone_letter': 'L'}\n",
      " {'x': 231276.45131874917, 'y': 8281978.278665429, 'zone_number': 19, 'zone_letter': 'L'}]\n"
     ]
    }
   ],
   "source": [
    "utm_coordinates = []\n",
    "\n",
    "for i in range(len(parsed_data)):\n",
    "    [x, y, zone_number, zone_letter] = utm.from_latlon(\n",
    "        parsed_data[i][\"latitud\"], parsed_data[i][\"longitud\"]\n",
    "    )\n",
    "    utm_coordinates.append(\n",
    "        {\n",
    "            \"x\": float(x),\n",
    "            \"y\": float(y),\n",
    "            \"zone_number\": zone_number,\n",
    "            \"zone_letter\": zone_letter,\n",
    "        }\n",
    "    )\n",
    "\n",
    "print(np.array(utm_coordinates))"
   ]
  },
  {
   "cell_type": "markdown",
   "metadata": {},
   "source": [
    "## Agregando la altitud a cada punto\n"
   ]
  },
  {
   "cell_type": "markdown",
   "metadata": {},
   "source": [
    "### Diviendo el arreglo porque no se pueden solicitar mas de 512 puntos al mismo tiempo\n"
   ]
  },
  {
   "cell_type": "code",
   "execution_count": 31,
   "metadata": {},
   "outputs": [
    {
     "name": "stdout",
     "output_type": "stream",
     "text": [
      "[[{'longitud': -71.50822803103384, 'latitud': -15.52502171075457}\n",
      "  {'longitud': -71.5075531275322, 'latitud': -15.52504294763689}\n",
      "  {'longitud': -71.50713003240948, 'latitud': -15.52510240816901}\n",
      "  {'longitud': -71.50674347994195, 'latitud': -15.52531972263328}\n",
      "  {'longitud': -71.50628580239709, 'latitud': -15.52552272214018}\n",
      "  {'longitud': -71.50574878376794, 'latitud': -15.52564346399782}\n",
      "  {'longitud': -71.50540610829403, 'latitud': -15.52559223856239}\n",
      "  {'longitud': -71.50511592146341, 'latitud': -15.5254870799914}]]\n"
     ]
    }
   ],
   "source": [
    "partials = []\n",
    "\n",
    "tamano_subarreglo = 500\n",
    "\n",
    "for i in range(0, len(lat_long_data), tamano_subarreglo):\n",
    "    subarreglo = lat_long_data[i : i + tamano_subarreglo]\n",
    "    partials.append(subarreglo)\n",
    "\n",
    "print(np.array(partials))"
   ]
  },
  {
   "cell_type": "markdown",
   "metadata": {},
   "source": [
    "### Petición a google cloud\n"
   ]
  },
  {
   "cell_type": "code",
   "execution_count": 32,
   "metadata": {},
   "outputs": [],
   "source": [
    "# Settings\n",
    "url_root = \"https://maps.googleapis.com/maps/api/elevation\"\n",
    "key_str = os.getenv(\"GOOGLE_CLOUD_API_KEY\")\n",
    "output_fmt = \"json\"\n",
    "request_str = \"%s/%s?locations=%s&key=%s\"\n",
    "input_list = [(40.714728, -73.998672), (40.714728, -73.998672)]\n",
    "output_file = \"elevations.json\""
   ]
  },
  {
   "cell_type": "code",
   "execution_count": 33,
   "metadata": {},
   "outputs": [
    {
     "name": "stdout",
     "output_type": "stream",
     "text": [
      "[[(-15.52502171075457, -71.50822803103384), (-15.52504294763689, -71.5075531275322), (-15.52510240816901, -71.50713003240948), (-15.52531972263328, -71.50674347994195), (-15.52552272214018, -71.50628580239709), (-15.52564346399782, -71.50574878376794), (-15.52559223856239, -71.50540610829403), (-15.5254870799914, -71.50511592146341)]]\n"
     ]
    }
   ],
   "source": [
    "# Prepare request string\n",
    "\n",
    "partials_for_cloud = []\n",
    "\n",
    "for i in range(len(partials)):\n",
    "    tuples = []\n",
    "    for j in range(len(partials[i])):\n",
    "        tuples.append((partials[i][j][\"latitud\"], partials[i][j][\"longitud\"]))\n",
    "\n",
    "    partials_for_cloud.append(tuples)\n",
    "\n",
    "print(partials_for_cloud)"
   ]
  },
  {
   "cell_type": "code",
   "execution_count": 34,
   "metadata": {},
   "outputs": [
    {
     "name": "stdout",
     "output_type": "stream",
     "text": [
      "[<Response [200]>]\n"
     ]
    }
   ],
   "source": [
    "# r_partial=requests.get(request_str % (url_root, output_fmt, \"|\".join([\",\".join([str(y) for y in x]) for x in input_list]), key_str))\n",
    "\n",
    "responses = []\n",
    "\n",
    "for i in range(len(partials_for_cloud)):\n",
    "    responses.append(\n",
    "        requests.get(\n",
    "            request_str\n",
    "            % (\n",
    "                url_root,\n",
    "                output_fmt,\n",
    "                \"|\".join(\n",
    "                    [\",\".join([str(y) for y in x]) for x in partials_for_cloud[i]]\n",
    "                ),\n",
    "                key_str,\n",
    "            )\n",
    "        )\n",
    "    )\n",
    "\n",
    "print(responses)"
   ]
  },
  {
   "cell_type": "code",
   "execution_count": 35,
   "metadata": {},
   "outputs": [
    {
     "name": "stdout",
     "output_type": "stream",
     "text": [
      "[[{'elevation': 3811.70751953125, 'location': {'lat': -15.52502171075457, 'lng': -71.50822803103384}, 'resolution': 152.7032318115234}, {'elevation': 3811.9892578125, 'location': {'lat': -15.52504294763689, 'lng': -71.5075531275322}, 'resolution': 152.7032318115234}, {'elevation': 3811.9072265625, 'location': {'lat': -15.52510240816901, 'lng': -71.50713003240948}, 'resolution': 152.7032318115234}, {'elevation': 3807.909912109375, 'location': {'lat': -15.52531972263328, 'lng': -71.50674347994195}, 'resolution': 152.7032318115234}, {'elevation': 3806.519775390625, 'location': {'lat': -15.52552272214018, 'lng': -71.50628580239709}, 'resolution': 152.7032318115234}, {'elevation': 3808.522216796875, 'location': {'lat': -15.52564346399782, 'lng': -71.50574878376794}, 'resolution': 152.7032318115234}, {'elevation': 3818.451416015625, 'location': {'lat': -15.52559223856239, 'lng': -71.50540610829403}, 'resolution': 152.7032318115234}, {'elevation': 3829.822998046875, 'location': {'lat': -15.5254870799914, 'lng': -71.50511592146341}, 'resolution': 152.7032318115234}]]\n"
     ]
    }
   ],
   "source": [
    "# Parseo de la respuesta de google cloud\n",
    "responses_parsed = []\n",
    "\n",
    "for i in range(len(responses)):\n",
    "    responses_parsed.append(json.loads(responses[i].text)[\"results\"])\n",
    "\n",
    "print(responses_parsed)\n",
    "# print(json.loads(r.text)[\"results\"])"
   ]
  },
  {
   "cell_type": "code",
   "execution_count": 36,
   "metadata": {},
   "outputs": [
    {
     "name": "stdout",
     "output_type": "stream",
     "text": [
      "{'elevation': 3811.70751953125, 'location': {'lat': -15.52502171075457, 'lng': -71.50822803103384}, 'resolution': 152.7032318115234}\n"
     ]
    }
   ],
   "source": [
    "print(json.loads(responses[0].text)[\"results\"][0])"
   ]
  },
  {
   "cell_type": "code",
   "execution_count": 37,
   "metadata": {},
   "outputs": [
    {
     "name": "stdout",
     "output_type": "stream",
     "text": [
      "[3811.70751953 3811.98925781 3811.90722656 3807.90991211 3806.51977539\n",
      " 3808.5222168  3818.45141602 3829.82299805]\n"
     ]
    }
   ],
   "source": [
    "# Obtencion de las elevaciones\n",
    "\n",
    "elevations_partials = []\n",
    "\n",
    "for i in range(len(responses_parsed)):\n",
    "    elevations_partials.append([x[\"elevation\"] for x in responses_parsed[i]])\n",
    "\n",
    "elevations = []\n",
    "\n",
    "for i in range(len(elevations_partials)):\n",
    "    for j in range(len(elevations_partials[i])):\n",
    "        elevations.append(elevations_partials[i][j])\n",
    "\n",
    "print(np.array(elevations))"
   ]
  },
  {
   "cell_type": "markdown",
   "metadata": {},
   "source": [
    "## Uniendo los datos UTM, latitud-longitud y elevación\n"
   ]
  },
  {
   "cell_type": "code",
   "execution_count": 38,
   "metadata": {},
   "outputs": [
    {
     "name": "stdout",
     "output_type": "stream",
     "text": [
      "[{'longitud': -71.50822803103384, 'latitud': -15.52502171075457, 'x': 230941.8276786802, 'y': 8282025.881516408, 'zone_number': 19, 'zone_letter': 'L', 'elevacion': 3811.70751953125}, {'longitud': -71.5075531275322, 'latitud': -15.52504294763689, 'x': 231014.29217347817, 'y': 8282024.379772708, 'zone_number': 19, 'zone_letter': 'L', 'elevacion': 3811.9892578125}, {'longitud': -71.50713003240948, 'latitud': -15.52510240816901, 'x': 231059.77981020417, 'y': 8282018.329677956, 'zone_number': 19, 'zone_letter': 'L', 'elevacion': 3811.9072265625}, {'longitud': -71.50674347994195, 'latitud': -15.52531972263328, 'x': 231101.5500846214, 'y': 8281994.7589541515, 'zone_number': 19, 'zone_letter': 'L', 'elevacion': 3807.909912109375}, {'longitud': -71.50628580239709, 'latitud': -15.52552272214018, 'x': 231150.93547840498, 'y': 8281972.862286303, 'zone_number': 19, 'zone_letter': 'L', 'elevacion': 3806.519775390625}, {'longitud': -71.50574878376794, 'latitud': -15.52564346399782, 'x': 231208.72968296375, 'y': 8281960.171273797, 'zone_number': 19, 'zone_letter': 'L', 'elevacion': 3808.522216796875}, {'longitud': -71.50540610829403, 'latitud': -15.52559223856239, 'x': 231245.44222787087, 'y': 8281966.272764398, 'zone_number': 19, 'zone_letter': 'L', 'elevacion': 3818.451416015625}, {'longitud': -71.50511592146341, 'latitud': -15.5254870799914, 'x': 231276.45131874917, 'y': 8281978.278665429, 'zone_number': 19, 'zone_letter': 'L', 'elevacion': 3829.822998046875}]\n"
     ]
    }
   ],
   "source": [
    "joined_data = []\n",
    "\n",
    "for i in range(len(lat_long_data)):\n",
    "    joined_data.append(\n",
    "        {\n",
    "            \"longitud\": lat_long_data[i][\"longitud\"],\n",
    "            \"latitud\": lat_long_data[i][\"latitud\"],\n",
    "            \"x\": utm_coordinates[i][\"x\"],\n",
    "            \"y\": utm_coordinates[i][\"y\"],\n",
    "            \"zone_number\": utm_coordinates[i][\"zone_number\"],\n",
    "            \"zone_letter\": utm_coordinates[i][\"zone_letter\"],\n",
    "            \"elevacion\": elevations[i],\n",
    "        }\n",
    "    )\n",
    "\n",
    "print(joined_data)"
   ]
  },
  {
   "cell_type": "markdown",
   "metadata": {},
   "source": [
    "## Agregando la distancia de cada punto\n"
   ]
  },
  {
   "cell_type": "code",
   "execution_count": 39,
   "metadata": {},
   "outputs": [
    {
     "name": "stdout",
     "output_type": "stream",
     "text": [
      "[{'longitud': -71.50822803103384, 'latitud': -15.52502171075457, 'x': 230941.8276786802, 'y': 8282025.881516408, 'zone_number': 19, 'zone_letter': 'L', 'elevacion': 3811.70751953125, 'distancia': 0, 'distancia_acumulada': 0}, {'longitud': -71.5075531275322, 'latitud': -15.52504294763689, 'x': 231014.29217347817, 'y': 8282024.379772708, 'zone_number': 19, 'zone_letter': 'L', 'elevacion': 3811.9892578125, 'distancia': 72.34634270106764, 'distancia_acumulada': 72.34634270106764}, {'longitud': -71.50713003240948, 'latitud': -15.52510240816901, 'x': 231059.77981020417, 'y': 8282018.329677956, 'zone_number': 19, 'zone_letter': 'L', 'elevacion': 3811.9072265625, 'distancia': 45.80919622254626, 'distancia_acumulada': 118.1555389236139}, {'longitud': -71.50674347994195, 'latitud': -15.52531972263328, 'x': 231101.5500846214, 'y': 8281994.7589541515, 'zone_number': 19, 'zone_letter': 'L', 'elevacion': 3807.909912109375, 'distancia': 47.94858565865728, 'distancia_acumulada': 166.1041245822712}, {'longitud': -71.50628580239709, 'latitud': -15.52552272214018, 'x': 231150.93547840498, 'y': 8281972.862286303, 'zone_number': 19, 'zone_letter': 'L', 'elevacion': 3806.519775390625, 'distancia': 53.980618080536516, 'distancia_acumulada': 220.0847426628077}, {'longitud': -71.50574878376794, 'latitud': -15.52564346399782, 'x': 231208.72968296375, 'y': 8281960.171273797, 'zone_number': 19, 'zone_letter': 'L', 'elevacion': 3808.522216796875, 'distancia': 59.08065155388351, 'distancia_acumulada': 279.1653942166912}, {'longitud': -71.50540610829403, 'latitud': -15.52559223856239, 'x': 231245.44222787087, 'y': 8281966.272764398, 'zone_number': 19, 'zone_letter': 'L', 'elevacion': 3818.451416015625, 'distancia': 37.15268647337687, 'distancia_acumulada': 316.3180806900681}, {'longitud': -71.50511592146341, 'latitud': -15.5254870799914, 'x': 231276.45131874917, 'y': 8281978.278665429, 'zone_number': 19, 'zone_letter': 'L', 'elevacion': 3829.822998046875, 'distancia': 33.21617207162281, 'distancia_acumulada': 349.5342527616909}]\n"
     ]
    }
   ],
   "source": [
    "joined_data[0][\"distancia\"] = 0\n",
    "joined_data[0][\"distancia_acumulada\"] = 0\n",
    "\n",
    "for i in range(1, len(joined_data)):\n",
    "    lat_i = joined_data[i - 1][\"latitud\"]\n",
    "    long_i = joined_data[i - 1][\"longitud\"]\n",
    "    lat_j = joined_data[i][\"latitud\"]\n",
    "    long_j = joined_data[i][\"longitud\"]\n",
    "\n",
    "    tuple_i = (lat_i, long_i)\n",
    "    tuple_j = (lat_j, long_j)\n",
    "\n",
    "    joined_data[i][\"distancia\"] = hs.haversine(tuple_i, tuple_j, unit=Unit.METERS)\n",
    "    joined_data[i][\"distancia_acumulada\"] = (\n",
    "        joined_data[i - 1][\"distancia_acumulada\"] + joined_data[i][\"distancia\"]\n",
    "    )\n",
    "\n",
    "print(joined_data)"
   ]
  },
  {
   "cell_type": "markdown",
   "metadata": {},
   "source": [
    "## Guardando los resultados en un archivo excel:\n"
   ]
  },
  {
   "cell_type": "code",
   "execution_count": 41,
   "metadata": {},
   "outputs": [],
   "source": [
    "# write joined data to excel file\n",
    "import pandas as pd\n",
    "\n",
    "df = pd.DataFrame(joined_data)\n",
    "df.to_excel(\"output/joined_data.xlsx\", index=False)"
   ]
  }
 ],
 "metadata": {
  "kernelspec": {
   "display_name": ".venv",
   "language": "python",
   "name": "python3"
  },
  "language_info": {
   "codemirror_mode": {
    "name": "ipython",
    "version": 3
   },
   "file_extension": ".py",
   "mimetype": "text/x-python",
   "name": "python",
   "nbconvert_exporter": "python",
   "pygments_lexer": "ipython3",
   "version": "3.12.0"
  }
 },
 "nbformat": 4,
 "nbformat_minor": 2
}
