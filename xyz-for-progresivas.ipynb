{
 "cells": [
  {
   "cell_type": "markdown",
   "metadata": {},
   "source": [
    "# Se busca escribir los datos para las progresivas solicitadas\n"
   ]
  },
  {
   "cell_type": "code",
   "execution_count": 44,
   "metadata": {},
   "outputs": [],
   "source": [
    "import pandas as pd\n",
    "import numpy as np\n",
    "import utm"
   ]
  },
  {
   "cell_type": "markdown",
   "metadata": {},
   "source": [
    "## Lectura de datos\n"
   ]
  },
  {
   "cell_type": "markdown",
   "metadata": {},
   "source": [
    "### Lectura de progresivas\n"
   ]
  },
  {
   "cell_type": "code",
   "execution_count": 45,
   "metadata": {},
   "outputs": [
    {
     "data": {
      "text/html": [
       "<div>\n",
       "<style scoped>\n",
       "    .dataframe tbody tr th:only-of-type {\n",
       "        vertical-align: middle;\n",
       "    }\n",
       "\n",
       "    .dataframe tbody tr th {\n",
       "        vertical-align: top;\n",
       "    }\n",
       "\n",
       "    .dataframe thead th {\n",
       "        text-align: right;\n",
       "    }\n",
       "</style>\n",
       "<table border=\"1\" class=\"dataframe\">\n",
       "  <thead>\n",
       "    <tr style=\"text-align: right;\">\n",
       "      <th></th>\n",
       "      <th>0</th>\n",
       "    </tr>\n",
       "  </thead>\n",
       "  <tbody>\n",
       "    <tr>\n",
       "      <th>0</th>\n",
       "      <td>25</td>\n",
       "    </tr>\n",
       "    <tr>\n",
       "      <th>1</th>\n",
       "      <td>50</td>\n",
       "    </tr>\n",
       "    <tr>\n",
       "      <th>2</th>\n",
       "      <td>75</td>\n",
       "    </tr>\n",
       "    <tr>\n",
       "      <th>3</th>\n",
       "      <td>100</td>\n",
       "    </tr>\n",
       "    <tr>\n",
       "      <th>4</th>\n",
       "      <td>125</td>\n",
       "    </tr>\n",
       "    <tr>\n",
       "      <th>5</th>\n",
       "      <td>150</td>\n",
       "    </tr>\n",
       "    <tr>\n",
       "      <th>6</th>\n",
       "      <td>175</td>\n",
       "    </tr>\n",
       "    <tr>\n",
       "      <th>7</th>\n",
       "      <td>200</td>\n",
       "    </tr>\n",
       "    <tr>\n",
       "      <th>8</th>\n",
       "      <td>225</td>\n",
       "    </tr>\n",
       "    <tr>\n",
       "      <th>9</th>\n",
       "      <td>250</td>\n",
       "    </tr>\n",
       "    <tr>\n",
       "      <th>10</th>\n",
       "      <td>275</td>\n",
       "    </tr>\n",
       "    <tr>\n",
       "      <th>11</th>\n",
       "      <td>300</td>\n",
       "    </tr>\n",
       "  </tbody>\n",
       "</table>\n",
       "</div>"
      ],
      "text/plain": [
       "      0\n",
       "0    25\n",
       "1    50\n",
       "2    75\n",
       "3   100\n",
       "4   125\n",
       "5   150\n",
       "6   175\n",
       "7   200\n",
       "8   225\n",
       "9   250\n",
       "10  275\n",
       "11  300"
      ]
     },
     "execution_count": 45,
     "metadata": {},
     "output_type": "execute_result"
    }
   ],
   "source": [
    "# read progresivas.xlsx data\n",
    "\n",
    "# read data from excel file\n",
    "df = pd.read_excel(\"./data/progresivas.xlsx\", sheet_name=\"Hoja1\")\n",
    "\n",
    "df"
   ]
  },
  {
   "cell_type": "code",
   "execution_count": 46,
   "metadata": {},
   "outputs": [
    {
     "data": {
      "text/plain": [
       "[25, 50, 75, 100, 125, 150, 175, 200, 225, 250, 275, 300]"
      ]
     },
     "execution_count": 46,
     "metadata": {},
     "output_type": "execute_result"
    }
   ],
   "source": [
    "progresivas = df[0].tolist()\n",
    "progresivas"
   ]
  },
  {
   "cell_type": "markdown",
   "metadata": {},
   "source": [
    "### Lectura de los datos xyz del archivo json\n"
   ]
  },
  {
   "cell_type": "code",
   "execution_count": 47,
   "metadata": {},
   "outputs": [
    {
     "data": {
      "text/html": [
       "<div>\n",
       "<style scoped>\n",
       "    .dataframe tbody tr th:only-of-type {\n",
       "        vertical-align: middle;\n",
       "    }\n",
       "\n",
       "    .dataframe tbody tr th {\n",
       "        vertical-align: top;\n",
       "    }\n",
       "\n",
       "    .dataframe thead th {\n",
       "        text-align: right;\n",
       "    }\n",
       "</style>\n",
       "<table border=\"1\" class=\"dataframe\">\n",
       "  <thead>\n",
       "    <tr style=\"text-align: right;\">\n",
       "      <th></th>\n",
       "      <th>longitud</th>\n",
       "      <th>latitud</th>\n",
       "      <th>x</th>\n",
       "      <th>y</th>\n",
       "      <th>zone_number</th>\n",
       "      <th>zone_letter</th>\n",
       "      <th>elevacion</th>\n",
       "      <th>distancia</th>\n",
       "      <th>distancia_acumulada</th>\n",
       "    </tr>\n",
       "  </thead>\n",
       "  <tbody>\n",
       "    <tr>\n",
       "      <th>0</th>\n",
       "      <td>-71.508228</td>\n",
       "      <td>-15.525022</td>\n",
       "      <td>230941.827679</td>\n",
       "      <td>8.282026e+06</td>\n",
       "      <td>19</td>\n",
       "      <td>L</td>\n",
       "      <td>3811.707520</td>\n",
       "      <td>0.000000</td>\n",
       "      <td>0.000000</td>\n",
       "    </tr>\n",
       "    <tr>\n",
       "      <th>1</th>\n",
       "      <td>-71.507553</td>\n",
       "      <td>-15.525043</td>\n",
       "      <td>231014.292173</td>\n",
       "      <td>8.282024e+06</td>\n",
       "      <td>19</td>\n",
       "      <td>L</td>\n",
       "      <td>3811.989258</td>\n",
       "      <td>72.346343</td>\n",
       "      <td>72.346343</td>\n",
       "    </tr>\n",
       "    <tr>\n",
       "      <th>2</th>\n",
       "      <td>-71.507130</td>\n",
       "      <td>-15.525102</td>\n",
       "      <td>231059.779810</td>\n",
       "      <td>8.282018e+06</td>\n",
       "      <td>19</td>\n",
       "      <td>L</td>\n",
       "      <td>3811.907227</td>\n",
       "      <td>45.809196</td>\n",
       "      <td>118.155539</td>\n",
       "    </tr>\n",
       "    <tr>\n",
       "      <th>3</th>\n",
       "      <td>-71.506743</td>\n",
       "      <td>-15.525320</td>\n",
       "      <td>231101.550085</td>\n",
       "      <td>8.281995e+06</td>\n",
       "      <td>19</td>\n",
       "      <td>L</td>\n",
       "      <td>3807.909912</td>\n",
       "      <td>47.948586</td>\n",
       "      <td>166.104125</td>\n",
       "    </tr>\n",
       "    <tr>\n",
       "      <th>4</th>\n",
       "      <td>-71.506286</td>\n",
       "      <td>-15.525523</td>\n",
       "      <td>231150.935478</td>\n",
       "      <td>8.281973e+06</td>\n",
       "      <td>19</td>\n",
       "      <td>L</td>\n",
       "      <td>3806.519775</td>\n",
       "      <td>53.980618</td>\n",
       "      <td>220.084743</td>\n",
       "    </tr>\n",
       "  </tbody>\n",
       "</table>\n",
       "</div>"
      ],
      "text/plain": [
       "    longitud    latitud              x             y  zone_number zone_letter  \\\n",
       "0 -71.508228 -15.525022  230941.827679  8.282026e+06           19           L   \n",
       "1 -71.507553 -15.525043  231014.292173  8.282024e+06           19           L   \n",
       "2 -71.507130 -15.525102  231059.779810  8.282018e+06           19           L   \n",
       "3 -71.506743 -15.525320  231101.550085  8.281995e+06           19           L   \n",
       "4 -71.506286 -15.525523  231150.935478  8.281973e+06           19           L   \n",
       "\n",
       "     elevacion  distancia  distancia_acumulada  \n",
       "0  3811.707520   0.000000             0.000000  \n",
       "1  3811.989258  72.346343            72.346343  \n",
       "2  3811.907227  45.809196           118.155539  \n",
       "3  3807.909912  47.948586           166.104125  \n",
       "4  3806.519775  53.980618           220.084743  "
      ]
     },
     "execution_count": 47,
     "metadata": {},
     "output_type": "execute_result"
    }
   ],
   "source": [
    "# read data from json file\n",
    "df = pd.read_json(\"./output/joined_data.json\")\n",
    "df.head()"
   ]
  },
  {
   "cell_type": "markdown",
   "metadata": {},
   "source": [
    "### Verificacion de datos\n"
   ]
  },
  {
   "cell_type": "code",
   "execution_count": 48,
   "metadata": {},
   "outputs": [
    {
     "name": "stdout",
     "output_type": "stream",
     "text": [
      "Ok\n"
     ]
    }
   ],
   "source": [
    "def verificar_orden(lista):\n",
    "    if all(lista[i] <= lista[i + 1] for i in range(len(lista) - 1)):\n",
    "        print(\"Ok\")\n",
    "    else:\n",
    "        raise ValueError(\"La lista no está ordenada ascendentemente\")\n",
    "\n",
    "\n",
    "# Ejemplo de uso\n",
    "\n",
    "try:\n",
    "    verificar_orden(progresivas)\n",
    "except ValueError as e:\n",
    "    print(f\"Error: {e}\")"
   ]
  },
  {
   "cell_type": "code",
   "execution_count": 49,
   "metadata": {},
   "outputs": [],
   "source": [
    "def interpolador(x, ti, tj):\n",
    "    xi, xj = ti[0], tj[0]\n",
    "    yi, yj = ti[1], tj[1]\n",
    "\n",
    "    return yi + (yj - yi) * (x - xi) / (xj - xi)"
   ]
  },
  {
   "cell_type": "code",
   "execution_count": 58,
   "metadata": {},
   "outputs": [],
   "source": [
    "def interpolador_progresivas(progresiva, data):\n",
    "    low_index = 0\n",
    "    high_index = 0\n",
    "\n",
    "    response = {\n",
    "        \"progresiva\": progresiva,\n",
    "        \"x\": 0,\n",
    "        \"y\": 0,\n",
    "        \"latitude\": 0,\n",
    "        \"longitude\": 0,\n",
    "        \"elevation\": 0,\n",
    "        \"zone_number\": 0,\n",
    "        \"zone_letter\": \"\",\n",
    "    }\n",
    "\n",
    "    for i in range(data.shape[0]):\n",
    "        if data.iloc[i][\"distancia_acumulada\"] <= progresiva:\n",
    "            low_index = i\n",
    "        if data.iloc[i][\"distancia_acumulada\"] >= progresiva:\n",
    "            high_index = i\n",
    "            break\n",
    "\n",
    "    # Para el caso de que ambos puntos sean de la misma zona\n",
    "\n",
    "    if (\n",
    "        data.iloc[low_index][\"zone_number\"] == data.iloc[high_index][\"zone_number\"]\n",
    "        and data.iloc[low_index][\"zone_letter\"] == data.iloc[high_index][\"zone_letter\"]\n",
    "    ):\n",
    "        x_coordinate = interpolador(\n",
    "            progresiva,\n",
    "            (\n",
    "                data.iloc[low_index][\"distancia_acumulada\"],\n",
    "                data.iloc[low_index][\"x\"],\n",
    "            ),\n",
    "            (\n",
    "                data.iloc[high_index][\"distancia_acumulada\"],\n",
    "                data.iloc[high_index][\"x\"],\n",
    "            ),\n",
    "        )\n",
    "\n",
    "        y_coordinate = interpolador(\n",
    "            progresiva,\n",
    "            (\n",
    "                data.iloc[low_index][\"distancia_acumulada\"],\n",
    "                data.iloc[low_index][\"y\"],\n",
    "            ),\n",
    "            (\n",
    "                data.iloc[high_index][\"distancia_acumulada\"],\n",
    "                data.iloc[high_index][\"y\"],\n",
    "            ),\n",
    "        )\n",
    "\n",
    "        latitude, longitude = utm.to_latlon(\n",
    "            x_coordinate,\n",
    "            y_coordinate,\n",
    "            data.iloc[low_index][\"zone_number\"],\n",
    "            data.iloc[low_index][\"zone_letter\"],\n",
    "        )\n",
    "\n",
    "        response[\"x\"] = x_coordinate\n",
    "        response[\"y\"] = y_coordinate\n",
    "        response[\"latitude\"] = latitude\n",
    "        response[\"longitude\"] = longitude\n",
    "        response[\"zone_number\"] = data.iloc[low_index][\"zone_number\"]\n",
    "        response[\"zone_letter\"] = data.iloc[low_index][\"zone_letter\"]\n",
    "\n",
    "    else:\n",
    "        latitude = interpolador(\n",
    "            progresiva,\n",
    "            (\n",
    "                data.iloc[low_index][\"distancia_acumulada\"],\n",
    "                data.iloc[low_index][\"latitud\"],\n",
    "            ),\n",
    "            (\n",
    "                data.iloc[high_index][\"distancia_acumulada\"],\n",
    "                data.iloc[high_index][\"latitud\"],\n",
    "            ),\n",
    "        )\n",
    "\n",
    "        longitude = interpolador(\n",
    "            progresiva,\n",
    "            (\n",
    "                data.iloc[low_index][\"distancia_acumulada\"],\n",
    "                data.iloc[low_index][\"longitud\"],\n",
    "            ),\n",
    "            (\n",
    "                data.iloc[high_index][\"distancia_acumulada\"],\n",
    "                data.iloc[high_index][\"longitud\"],\n",
    "            ),\n",
    "        )\n",
    "\n",
    "        x_coordinate, y_coordinate, zone_number, zone_letter = utm.from_latlon(\n",
    "            latitude, longitude\n",
    "        )\n",
    "\n",
    "        response[\"x\"] = x_coordinate\n",
    "        response[\"y\"] = y_coordinate\n",
    "        response[\"latitude\"] = latitude\n",
    "        response[\"longitude\"] = longitude\n",
    "        response[\"zone_number\"] = data.iloc[low_index][\"zone_number\"]\n",
    "        response[\"zone_letter\"] = data.iloc[low_index][\"zone_letter\"]\n",
    "\n",
    "    elevation = interpolador(\n",
    "        progresiva,\n",
    "        (\n",
    "            data.iloc[low_index][\"distancia_acumulada\"],\n",
    "            data.iloc[low_index][\"elevacion\"],\n",
    "        ),\n",
    "        (\n",
    "            data.iloc[high_index][\"distancia_acumulada\"],\n",
    "            data.iloc[high_index][\"elevacion\"],\n",
    "        ),\n",
    "    )\n",
    "\n",
    "    response[\"elevation\"] = elevation\n",
    "\n",
    "    return response\n",
    "\n",
    "    # print(low_index, high_index)"
   ]
  },
  {
   "cell_type": "code",
   "execution_count": 59,
   "metadata": {},
   "outputs": [
    {
     "data": {
      "text/plain": [
       "{'progresiva': 160,\n",
       " 'x': 231096.2324938025,\n",
       " 'y': 8281997.759639837,\n",
       " 'latitude': -15.525292034932116,\n",
       " 'longitude': -71.50679269053553,\n",
       " 'elevation': 3808.418792717243,\n",
       " 'zone_number': 19,\n",
       " 'zone_letter': 'L'}"
      ]
     },
     "execution_count": 59,
     "metadata": {},
     "output_type": "execute_result"
    }
   ],
   "source": [
    "interpolador_progresivas(160, df)"
   ]
  },
  {
   "cell_type": "code",
   "execution_count": 63,
   "metadata": {},
   "outputs": [],
   "source": [
    "final=[]\n",
    "\n",
    "for progresiva in progresivas:\n",
    "    final.append(interpolador_progresivas(progresiva, df))"
   ]
  },
  {
   "cell_type": "markdown",
   "metadata": {},
   "source": [
    "## Imprimiendo los resultados en una hoja excel"
   ]
  },
  {
   "cell_type": "code",
   "execution_count": 65,
   "metadata": {},
   "outputs": [],
   "source": [
    "# Write final in excel file\n",
    "\n",
    "df = pd.DataFrame(final)\n",
    "df.to_excel(\"output/progresivas_data.xlsx\", index=False)"
   ]
  }
 ],
 "metadata": {
  "kernelspec": {
   "display_name": ".venv",
   "language": "python",
   "name": "python3"
  },
  "language_info": {
   "codemirror_mode": {
    "name": "ipython",
    "version": 3
   },
   "file_extension": ".py",
   "mimetype": "text/x-python",
   "name": "python",
   "nbconvert_exporter": "python",
   "pygments_lexer": "ipython3",
   "version": "3.12.0"
  }
 },
 "nbformat": 4,
 "nbformat_minor": 2
}
