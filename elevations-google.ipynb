{
 "cells": [
  {
   "cell_type": "markdown",
   "metadata": {},
   "source": [
    "# API de google para obtener elevaciones"
   ]
  },
  {
   "cell_type": "code",
   "execution_count": 1,
   "metadata": {},
   "outputs": [],
   "source": [
    "import geopandas as gpd\n",
    "import requests\n",
    "import json\n",
    "import time\n",
    "import os\n",
    "from dotenv import load_dotenv"
   ]
  },
  {
   "cell_type": "code",
   "execution_count": 2,
   "metadata": {},
   "outputs": [
    {
     "data": {
      "text/plain": [
       "True"
      ]
     },
     "execution_count": 2,
     "metadata": {},
     "output_type": "execute_result"
    }
   ],
   "source": [
    "# Carga las variables de entorno desde el archivo .env en el directorio actual\n",
    "load_dotenv()"
   ]
  },
  {
   "cell_type": "code",
   "execution_count": 3,
   "metadata": {},
   "outputs": [],
   "source": [
    "# configure API request link\n",
    "\n",
    "url_root = \"https://maps.googleapis.com/maps/api/elevation\"\n",
    "key_str = os.getenv('GOOGLE_CLOUD_API_KEY')\n",
    "output_fmt = \"json\"\n",
    "request_str = \"%s/%s?locations=%s&key=%s\"\n",
    "input_list = [(40.714728, -73.998672), (40.714728, -73.998672)]\n",
    "output_file = \"elevations.json\""
   ]
  },
  {
   "cell_type": "code",
   "execution_count": 3,
   "metadata": {},
   "outputs": [],
   "source": [
    "r=requests.get(request_str % (url_root, output_fmt, \"|\".join([\",\".join([str(y) for y in x]) for x in input_list]), key_str))"
   ]
  },
  {
   "cell_type": "code",
   "execution_count": 5,
   "metadata": {},
   "outputs": [
    {
     "name": "stdout",
     "output_type": "stream",
     "text": [
      "{'results': [{'elevation': 10.5185432434082, 'location': {'lat': 40.714728, 'lng': -73.998672}, 'resolution': 76.35161590576172}, {'elevation': 10.5185432434082, 'location': {'lat': 40.714728, 'lng': -73.998672}, 'resolution': 76.35161590576172}], 'status': 'OK'}\n"
     ]
    }
   ],
   "source": [
    "print(json.loads(r.text))"
   ]
  },
  {
   "cell_type": "code",
   "execution_count": 6,
   "metadata": {},
   "outputs": [
    {
     "name": "stdout",
     "output_type": "stream",
     "text": [
      "[{'elevation': 10.5185432434082, 'location': {'lat': 40.714728, 'lng': -73.998672}, 'resolution': 76.35161590576172}, {'elevation': 10.5185432434082, 'location': {'lat': 40.714728, 'lng': -73.998672}, 'resolution': 76.35161590576172}]\n"
     ]
    }
   ],
   "source": [
    "print(json.loads(r.text)[\"results\"])"
   ]
  }
 ],
 "metadata": {
  "kernelspec": {
   "display_name": ".venv",
   "language": "python",
   "name": "python3"
  },
  "language_info": {
   "codemirror_mode": {
    "name": "ipython",
    "version": 3
   },
   "file_extension": ".py",
   "mimetype": "text/x-python",
   "name": "python",
   "nbconvert_exporter": "python",
   "pygments_lexer": "ipython3",
   "version": "3.12.0"
  }
 },
 "nbformat": 4,
 "nbformat_minor": 2
}
