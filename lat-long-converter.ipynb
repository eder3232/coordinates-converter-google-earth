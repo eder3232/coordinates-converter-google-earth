{
 "cells": [
  {
   "cell_type": "markdown",
   "metadata": {},
   "source": [
    "# Convertidor de coordenadas"
   ]
  },
  {
   "cell_type": "code",
   "execution_count": 13,
   "metadata": {},
   "outputs": [
    {
     "name": "stdout",
     "output_type": "stream",
     "text": [
      "[{'longitud': '-71.50822803103384', 'latitud': '-15.52502171075457'}, {'longitud': '-71.5075531275322', 'latitud': '-15.52504294763689'}, {'longitud': '-71.50713003240948', 'latitud': '-15.52510240816901'}, {'longitud': '-71.50674347994195', 'latitud': '-15.52531972263328'}, {'longitud': '-71.50628580239709', 'latitud': '-15.52552272214018'}, {'longitud': '-71.50574878376794', 'latitud': '-15.52564346399782'}, {'longitud': '-71.50540610829403', 'latitud': '-15.52559223856239'}, {'longitud': '-71.5051914121306', 'latitud': '-15.52551596548126'}]\n"
     ]
    }
   ],
   "source": [
    "# Abre el archivo en modo de lectura\n",
    "archivo = open('data/coordinates.txt', 'r')\n",
    "\n",
    "# Lee el contenido del archivo\n",
    "contenido = archivo.read()\n",
    "\n",
    "# Quita los espacio al inicio y al final de la cadena de texto\n",
    "\n",
    "contenido_striped = contenido.strip()\n",
    "\n",
    "# Ahora a partir de la cadena de texto vamos a hacer un split por cada espacio y guardar esto en una lista\n",
    "\n",
    "contenido_splited = contenido_striped.split(' ')\n",
    "\n",
    "# Para cada elemento de la lista, vamos a separar por comas y guardar esto en una nueva lista\n",
    "\n",
    "contenido_double_splited = []\n",
    "\n",
    "for i in range(len(contenido_splited)):\n",
    "    contenido_double_splited.append(contenido_splited[i].split(','))\n",
    "\n",
    "parsed_data = []\n",
    "\n",
    "# Tenemos un arreglo de arreglos, vamos a pushear a parsed_data un diccionario por cada elemento de la lista, donde el primer elemento es la longitud y el segundo la latitud\n",
    "\n",
    "for i in range(len(contenido_double_splited)):\n",
    "    parsed_data.append({\n",
    "        'longitud': float(contenido_double_splited[i][0]),\n",
    "        'latitud': float(contenido_double_splited[i][1])\n",
    "    })\n",
    "\n",
    "print(parsed_data)\n",
    "\n",
    "\n",
    "\n",
    "# Cierra el archivo\n",
    "archivo.close()\n",
    "\n",
    "# Imprime el contenido"
   ]
  }
 ],
 "metadata": {
  "kernelspec": {
   "display_name": ".venv",
   "language": "python",
   "name": "python3"
  },
  "language_info": {
   "codemirror_mode": {
    "name": "ipython",
    "version": 3
   },
   "file_extension": ".py",
   "mimetype": "text/x-python",
   "name": "python",
   "nbconvert_exporter": "python",
   "pygments_lexer": "ipython3",
   "version": "3.12.0"
  }
 },
 "nbformat": 4,
 "nbformat_minor": 2
}
